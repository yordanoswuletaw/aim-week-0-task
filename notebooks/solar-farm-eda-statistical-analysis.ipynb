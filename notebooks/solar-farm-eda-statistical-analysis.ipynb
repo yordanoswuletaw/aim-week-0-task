{
 "cells": [
  {
   "cell_type": "code",
   "execution_count": 20,
   "metadata": {},
   "outputs": [],
   "source": [
    "import numpy as np \n",
    "import pandas as pd \n",
    "import matplotlib.pyplot as plt\n",
    "import seaborn as sns"
   ]
  },
  {
   "cell_type": "markdown",
   "metadata": {},
   "source": [
    "#### Reading solar farm data"
   ]
  },
  {
   "cell_type": "code",
   "execution_count": 21,
   "metadata": {},
   "outputs": [],
   "source": [
    "benin_df = pd.read_csv('../data/raw/benin-malanville.csv')\n",
    "togo_df = pd.read_csv('../data/raw/togo-dapaong_qc.csv')\n",
    "sierraleone_df = pd.read_csv('../data/raw/sierraleone-bumbuna.csv')"
   ]
  },
  {
   "cell_type": "code",
   "execution_count": null,
   "metadata": {},
   "outputs": [],
   "source": []
  }
 ],
 "metadata": {
  "language_info": {
   "name": "python"
  }
 },
 "nbformat": 4,
 "nbformat_minor": 2
}
